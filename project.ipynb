{
 "cells": [
  {
   "cell_type": "code",
   "execution_count": 61,
   "metadata": {},
   "outputs": [],
   "source": [
    "import pandas as pd\n",
    "import numpy as np"
   ]
  },
  {
   "cell_type": "code",
   "execution_count": 62,
   "metadata": {},
   "outputs": [],
   "source": [
    "Bitcoin_Cash = \"~/Desktop/Project/Bitcoin_Cash.csv\"\n",
    "Bitcoin = \"~/Desktop/Project/Bitcoin.csv\"\n",
    "Crypto = \"~/Desktop/Project/Crypto.csv\"\n",
    "EOS = \"~/Desktop/Project/EOS.csv\"\n",
    "ETH = \"~/Desktop/Project/ETH.csv\"\n",
    "Ripple = \"~/Desktop/Project/Ripple.csv\"\n"
   ]
  },
  {
   "cell_type": "code",
   "execution_count": 63,
   "metadata": {},
   "outputs": [],
   "source": [
    "Bitcoin_Cash_df = pd.read_csv(Bitcoin_Cash)\n",
    "Bitcoin_df = pd.read_csv(Bitcoin)\n",
    "Crypto_df = pd.read_csv(Crypto)\n",
    "EOS_df = pd.read_csv(EOS)\n",
    "ETH_df = pd.read_csv(ETH)\n",
    "Ripple_df = pd.read_csv(Ripple)\n",
    "\n"
   ]
  },
  {
   "cell_type": "code",
   "execution_count": 64,
   "metadata": {},
   "outputs": [],
   "source": [
    "combined_crypto_df = pd.merge(Bitcoin_Cash_df, Bitcoin_df, how='left', on='Date')\n",
    "combined_crypto2_df = pd.merge(Crypto_df, EOS_df, how='left', on='Date')\n",
    "combined_crypto3_df = pd.merge(ETH_df, Ripple_df, how='left', on='Date')\n"
   ]
  },
  {
   "cell_type": "code",
   "execution_count": 65,
   "metadata": {},
   "outputs": [],
   "source": [
    "combined_crypto4_df = pd.merge(combined_crypto_df, combined_crypto2_df, how='left', on='Date')"
   ]
  },
  {
   "cell_type": "code",
   "execution_count": 66,
   "metadata": {},
   "outputs": [],
   "source": [
    "total_combined_crypto_df = pd.merge(combined_crypto4_df, combined_crypto3_df, how='left', on='Date')"
   ]
  },
  {
   "cell_type": "code",
   "execution_count": 60,
   "metadata": {},
   "outputs": [
    {
     "data": {
      "text/html": [
       "<div>\n",
       "<style scoped>\n",
       "    .dataframe tbody tr th:only-of-type {\n",
       "        vertical-align: middle;\n",
       "    }\n",
       "\n",
       "    .dataframe tbody tr th {\n",
       "        vertical-align: top;\n",
       "    }\n",
       "\n",
       "    .dataframe thead th {\n",
       "        text-align: right;\n",
       "    }\n",
       "</style>\n",
       "<table border=\"1\" class=\"dataframe\">\n",
       "  <thead>\n",
       "    <tr style=\"text-align: right;\">\n",
       "      <th></th>\n",
       "      <th>Date</th>\n",
       "      <th>Search: BITCOIN CASH Story Count</th>\n",
       "      <th>Search: TOPIC:BITCOIN Story Count</th>\n",
       "      <th>Search: CRYPTO Story Count</th>\n",
       "      <th>Search: EOS Story Count</th>\n",
       "      <th>Search: ETH Story Count</th>\n",
       "      <th>Search: RIPPLE Story Count</th>\n",
       "    </tr>\n",
       "  </thead>\n",
       "  <tbody>\n",
       "    <tr>\n",
       "      <th>0</th>\n",
       "      <td>11/1/18</td>\n",
       "      <td>0</td>\n",
       "      <td>21.0</td>\n",
       "      <td>64</td>\n",
       "      <td>1.0</td>\n",
       "      <td>6.0</td>\n",
       "      <td>4.0</td>\n",
       "    </tr>\n",
       "    <tr>\n",
       "      <th>1</th>\n",
       "      <td>10/31/18</td>\n",
       "      <td>0</td>\n",
       "      <td>15.0</td>\n",
       "      <td>42</td>\n",
       "      <td>1.0</td>\n",
       "      <td>3.0</td>\n",
       "      <td>3.0</td>\n",
       "    </tr>\n",
       "    <tr>\n",
       "      <th>2</th>\n",
       "      <td>10/30/18</td>\n",
       "      <td>4</td>\n",
       "      <td>15.0</td>\n",
       "      <td>53</td>\n",
       "      <td>1.0</td>\n",
       "      <td>6.0</td>\n",
       "      <td>4.0</td>\n",
       "    </tr>\n",
       "    <tr>\n",
       "      <th>3</th>\n",
       "      <td>10/29/18</td>\n",
       "      <td>0</td>\n",
       "      <td>15.0</td>\n",
       "      <td>23</td>\n",
       "      <td>1.0</td>\n",
       "      <td>4.0</td>\n",
       "      <td>4.0</td>\n",
       "    </tr>\n",
       "    <tr>\n",
       "      <th>4</th>\n",
       "      <td>10/28/18</td>\n",
       "      <td>0</td>\n",
       "      <td>NaN</td>\n",
       "      <td>3</td>\n",
       "      <td>NaN</td>\n",
       "      <td>NaN</td>\n",
       "      <td>NaN</td>\n",
       "    </tr>\n",
       "  </tbody>\n",
       "</table>\n",
       "</div>"
      ],
      "text/plain": [
       "       Date  Search: BITCOIN CASH Story Count  \\\n",
       "0   11/1/18                                 0   \n",
       "1  10/31/18                                 0   \n",
       "2  10/30/18                                 4   \n",
       "3  10/29/18                                 0   \n",
       "4  10/28/18                                 0   \n",
       "\n",
       "   Search: TOPIC:BITCOIN Story Count  Search: CRYPTO Story Count  \\\n",
       "0                               21.0                          64   \n",
       "1                               15.0                          42   \n",
       "2                               15.0                          53   \n",
       "3                               15.0                          23   \n",
       "4                                NaN                           3   \n",
       "\n",
       "   Search: EOS Story Count  Search: ETH Story Count  \\\n",
       "0                      1.0                      6.0   \n",
       "1                      1.0                      3.0   \n",
       "2                      1.0                      6.0   \n",
       "3                      1.0                      4.0   \n",
       "4                      NaN                      NaN   \n",
       "\n",
       "   Search: RIPPLE Story Count  \n",
       "0                         4.0  \n",
       "1                         3.0  \n",
       "2                         4.0  \n",
       "3                         4.0  \n",
       "4                         NaN  "
      ]
     },
     "execution_count": 60,
     "metadata": {},
     "output_type": "execute_result"
    }
   ],
   "source": [
    "total_combined_crypto_df.head()"
   ]
  },
  {
   "cell_type": "code",
   "execution_count": null,
   "metadata": {},
   "outputs": [],
   "source": []
  }
 ],
 "metadata": {
  "kernelspec": {
   "display_name": "Python 3",
   "language": "python",
   "name": "python3"
  },
  "language_info": {
   "codemirror_mode": {
    "name": "ipython",
    "version": 3
   },
   "file_extension": ".py",
   "mimetype": "text/x-python",
   "name": "python",
   "nbconvert_exporter": "python",
   "pygments_lexer": "ipython3",
   "version": "3.6.5"
  }
 },
 "nbformat": 4,
 "nbformat_minor": 2
}
