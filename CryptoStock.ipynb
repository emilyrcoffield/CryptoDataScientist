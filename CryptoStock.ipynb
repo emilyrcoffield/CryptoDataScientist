{
 "cells": [
  {
   "cell_type": "code",
   "execution_count": 2,
   "metadata": {},
   "outputs": [],
   "source": [
    "%matplotlib notebook"
   ]
  },
  {
   "cell_type": "code",
   "execution_count": 3,
   "metadata": {},
   "outputs": [],
   "source": [
    "from cryptocmd import CmcScraper\n",
    "import pandas as pd\n",
    "import matplotlib.pyplot as plt\n",
    "import numpy as np"
   ]
  },
  {
   "cell_type": "code",
   "execution_count": 4,
   "metadata": {},
   "outputs": [],
   "source": [
    "# scraping data\n",
    "scraper_bitcoin = CmcScraper(\"btc\")\n",
    "scraper_eth = CmcScraper(\"eth\")\n",
    "scraper_xrp = CmcScraper(\"xrp\")\n",
    "scraper_eos = CmcScraper(\"eos\")\n",
    "scraper_bch = CmcScraper(\"bch\")\n",
    "\n",
    "# converting to csv\n",
    "\n",
    "scraper_bitcoin.export_csv(\"btc_all_time.csv\")\n",
    "scraper_eth.export_csv(\"eth_all_time.csv\")\n",
    "scraper_xrp.export_csv(\"xrp_all_time.csv\")\n",
    "scraper_eos.export_csv(\"eos_all_time.csv\")\n",
    "scraper_bch.export_csv(\"bch_all_time.csv\")"
   ]
  },
  {
   "cell_type": "code",
   "execution_count": 5,
   "metadata": {},
   "outputs": [],
   "source": [
    "bitcoin_df = pd.read_csv(\"btc_all_time.csv\")\n",
    "eth_df = pd.read_csv(\"eth_all_time.csv\")\n",
    "xrp_df = pd.read_csv(\"xrp_all_time.csv\")\n",
    "eos_df = pd.read_csv(\"eos_all_time.csv\")\n",
    "bch_df = pd.read_csv(\"bch_all_time.csv\")"
   ]
  },
  {
   "cell_type": "code",
   "execution_count": 6,
   "metadata": {},
   "outputs": [],
   "source": [
    "bitcoin_df[\"Market Cap\"] = pd.to_numeric(bitcoin_df[\"Market Cap\"])\n",
    "eth_df[\"Market Cap\"] = pd.to_numeric(eth_df[\"Market Cap\"])\n",
    "xrp_df[\"Market Cap\"] = pd.to_numeric(xrp_df[\"Market Cap\"])\n",
    "eos_df[\"Market Cap\"] = pd.to_numeric(eos_df[\"Market Cap\"])\n",
    "bch_df[\"Market Cap\"] = pd.to_numeric(bch_df[\"Market Cap\"])"
   ]
  },
  {
   "cell_type": "code",
   "execution_count": 9,
   "metadata": {},
   "outputs": [
    {
     "name": "stdout",
     "output_type": "stream",
     "text": [
      "         Date     Open     High      Low    Close        Volume    Market Cap\n",
      "0  02-11-2018  6378.92  6396.86  6327.38  6388.44  4.234870e+09  110880236966\n",
      "1  01-11-2018  6318.14  6547.14  6311.83  6377.78  3.789400e+09  110683820788\n",
      "2  31-10-2018  6336.99  6349.16  6316.88  6317.61  4.191240e+09  109627117226\n",
      "3  30-10-2018  6337.04  6364.99  6310.14  6334.27  3.781100e+09  109939406526\n",
      "4  29-10-2018  6492.35  6503.60  6306.99  6332.63  4.199910e+09  112621848702\n",
      "         Date    Open    High     Low   Close      Volume    Market Cap\n",
      "0  02-11-2018  198.98  201.27  198.75  200.63  1451870000  2.065711e+10\n",
      "1  01-11-2018  197.54  203.75  197.33  198.87  1336700000  2.047190e+10\n",
      "2  31-10-2018  197.65  198.34  196.53  197.38  1442380000  2.031453e+10\n",
      "3  30-10-2018  197.20  198.12  196.35  197.56  1363500000  2.028826e+10\n",
      "4  29-10-2018  205.17  205.60  195.73  197.25  1517230000  2.110413e+10\n",
      "         Date      Open      High       Low     Close       Volume  \\\n",
      "0  02-11-2018  0.456506  0.461451  0.455729  0.458685  401300000.0   \n",
      "1  01-11-2018  0.448620  0.456303  0.446069  0.455722  346501000.0   \n",
      "2  31-10-2018  0.445268  0.450401  0.438760  0.448382  367008000.0   \n",
      "3  30-10-2018  0.441968  0.448306  0.440880  0.444759  245858000.0   \n",
      "4  29-10-2018  0.461598  0.462128  0.437057  0.441514  341648000.0   \n",
      "\n",
      "    Market Cap  \n",
      "0  18494536425  \n",
      "1  18494536425  \n",
      "2  18092481285  \n",
      "3  17769546760  \n",
      "4  18558791184  \n",
      "         Date  Open  High   Low  Close     Volume    Market Cap\n",
      "0  02-11-2018  5.28  5.38  5.28   5.36  668222000  4.857474e+09\n",
      "1  01-11-2018  5.20  5.53  5.19   5.28  560423000  4.784974e+09\n",
      "2  31-10-2018  5.14  5.22  5.12   5.20  646592000  4.712475e+09\n",
      "3  30-10-2018  5.15  5.16  5.11   5.14  562212000  4.665243e+09\n",
      "4  29-10-2018  5.41  5.43  5.08   5.15  578423000  4.904512e+09\n",
      "         Date    Open    High     Low   Close     Volume    Market Cap\n",
      "0  02-11-2018  424.24  469.88  424.24  462.01  524499000  8.055936e+09\n",
      "1  01-11-2018  423.07  432.58  421.83  424.09  228640000  7.393935e+09\n",
      "2  31-10-2018  422.23  424.62  411.52  422.86  286666000  7.371755e+09\n",
      "3  30-10-2018  417.69  422.97  415.21  421.93  243462000  7.280117e+09\n",
      "4  29-10-2018  440.21  440.90  414.61  417.57  294419000  7.671744e+09\n"
     ]
    }
   ],
   "source": [
    "print(bitcoin_df.head())\n",
    "\n",
    "print(eth_df.head())\n",
    "\n",
    "print(xrp_df.head())\n",
    "\n",
    "print(eos_df.head())\n",
    "\n",
    "print(bch_df.head())"
   ]
  },
  {
   "cell_type": "code",
   "execution_count": null,
   "metadata": {},
   "outputs": [],
   "source": []
  },
  {
   "cell_type": "code",
   "execution_count": null,
   "metadata": {},
   "outputs": [],
   "source": []
  },
  {
   "cell_type": "code",
   "execution_count": null,
   "metadata": {},
   "outputs": [],
   "source": []
  }
 ],
 "metadata": {
  "kernelspec": {
   "display_name": "Python 3",
   "language": "python",
   "name": "python3"
  },
  "language_info": {
   "codemirror_mode": {
    "name": "ipython",
    "version": 3
   },
   "file_extension": ".py",
   "mimetype": "text/x-python",
   "name": "python",
   "nbconvert_exporter": "python",
   "pygments_lexer": "ipython3",
   "version": "3.7.0"
  }
 },
 "nbformat": 4,
 "nbformat_minor": 2
}
